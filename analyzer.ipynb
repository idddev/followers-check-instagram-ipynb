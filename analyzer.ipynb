{
 "cells": [
  {
   "cell_type": "code",
   "execution_count": null,
   "metadata": {},
   "outputs": [],
   "source": [
    "%pip install pandas"
   ]
  },
  {
   "cell_type": "code",
   "execution_count": null,
   "metadata": {},
   "outputs": [],
   "source": [
    "import pandas as pd"
   ]
  },
  {
   "cell_type": "code",
   "execution_count": null,
   "metadata": {},
   "outputs": [],
   "source": [
    "# Cargar los datos de seguidores y seguidos desde los JSON\n",
    "followers = pd.read_json('data/followers.json')\n",
    "following = pd.read_json('data/followings.json')"
   ]
  },
  {
   "cell_type": "code",
   "execution_count": null,
   "metadata": {},
   "outputs": [],
   "source": [
    "# Cargar likes de imagenes desde el JSON\n",
    "likes = pd.read_json('data/likes.json')"
   ]
  },
  {
   "cell_type": "code",
   "execution_count": null,
   "metadata": {},
   "outputs": [],
   "source": [
    "# Obtenemos la cantidad de registros por cada archivo\n",
    "print('Followers: ', len(followers))\n",
    "print('Following: ', len(following))"
   ]
  },
  {
   "cell_type": "code",
   "execution_count": null,
   "metadata": {},
   "outputs": [],
   "source": [
    "# Identificar que usuarios no siguen de vuelta\n",
    "not_following_me_back = following[~following['name'].isin(followers['name'])]\n",
    "print('Not following me back: ', len(not_following_me_back))\n",
    "\n",
    "# Mostrar en una tabla los usuarios que no siguen de vuelta junto con la url de sus perfiles\n",
    "not_following_me_back[['name', 'url']]"
   ]
  },
  {
   "cell_type": "code",
   "execution_count": null,
   "metadata": {},
   "outputs": [],
   "source": [
    "# Identificar a quienes nosotros no seguimos de vuelta\n",
    "not_following_back = followers[~followers['name'].isin(following['name'])]\n",
    "print('Not following back: ', len(not_following_back))\n",
    "\n",
    "# Mostrar en una tabla los usuarios que no seguimos de vuelta junto con la url de sus perfiles\n",
    "not_following_back[['name', 'url']]"
   ]
  },
  {
   "cell_type": "code",
   "execution_count": null,
   "metadata": {},
   "outputs": [],
   "source": [
    "# Mostrar tabla de Likes de Posts\n",
    "likes"
   ]
  },
  {
   "cell_type": "code",
   "execution_count": null,
   "metadata": {},
   "outputs": [],
   "source": [
    "# Agrupar cantidad de likes por post\n",
    "likes_by_code = likes.groupby('code')\n",
    "\n",
    "# Obtener total de registros por codigo de post\n",
    "likes_by_code.size()"
   ]
  },
  {
   "cell_type": "code",
   "execution_count": null,
   "metadata": {},
   "outputs": [],
   "source": [
    "# Agrupar likes por usuario\n",
    "likes_by_user = likes.groupby('username')\n",
    "\n",
    "# Obtener total de likes por usuario de mayor a menor\n",
    "# Cambiar el nombre de la columna de conteo de likes\n",
    "likes_by_user = likes_by_user.size().sort_values(ascending=False).to_frame().reset_index().rename(columns={0: 'likes'})\n",
    "\n",
    "# Agregarle la columna following consultando el archivo de seguidos\n",
    "likes_by_user['following'] = likes_by_user['username'].isin(following['name'])\n",
    "\n",
    "likes_by_user"
   ]
  },
  {
   "cell_type": "code",
   "execution_count": null,
   "metadata": {},
   "outputs": [],
   "source": [
    "# Mostrar a quienes no seguimos\n",
    "likes_by_user[likes_by_user['following'] == False]"
   ]
  }
 ],
 "metadata": {
  "kernelspec": {
   "display_name": "Python 3",
   "language": "python",
   "name": "python3"
  },
  "language_info": {
   "codemirror_mode": {
    "name": "ipython",
    "version": 3
   },
   "file_extension": ".py",
   "mimetype": "text/x-python",
   "name": "python",
   "nbconvert_exporter": "python",
   "pygments_lexer": "ipython3",
   "version": "3.9.6"
  },
  "orig_nbformat": 4
 },
 "nbformat": 4,
 "nbformat_minor": 2
}
